{
 "cells": [
  {
   "cell_type": "markdown",
   "metadata": {},
   "source": [
    "# Playground\n",
    "### Setup"
   ]
  },
  {
   "cell_type": "code",
   "execution_count": 11,
   "metadata": {},
   "outputs": [],
   "source": [
    "from ipywidgets import interact, interactive, fixed\n",
    "import ipywidgets as widgets\n",
    "import numpy as np\n",
    "import matplotlib.pyplot as plt\n",
    "from thinkdsp import decorate, read_wave, play_wave\n",
    "\n",
    "def plot_spectrogram(wave, seg_length):\n",
    "    \"\"\"\n",
    "    \"\"\"\n",
    "    spectrogram = wave.make_spectrogram(seg_length)\n",
    "    print('Time resolution (s)', spectrogram.time_res)\n",
    "    print('Frequency resolution (Hz)', spectrogram.freq_res)\n",
    "    spectrogram.plot(high=1000)\n",
    "    decorate(xlabel='Time(s)', ylabel='Frequency (Hz)')"
   ]
  },
  {
   "cell_type": "markdown",
   "metadata": {},
   "source": [
    "### Create the sound segment"
   ]
  },
  {
   "cell_type": "code",
   "execution_count": 16,
   "metadata": {},
   "outputs": [
    {
     "name": "stdout",
     "output_type": "stream",
     "text": [
      "Writing temp.wav\n"
     ]
    }
   ],
   "source": [
    "wave = read_wave('lose_yourself.wav')\n",
    "segment = wave.segment(start=30.75, duration=8)\n",
    "segment.write(\"temp.wav\")"
   ]
  },
  {
   "cell_type": "markdown",
   "metadata": {},
   "source": [
    "### Play the sound segment"
   ]
  },
  {
   "cell_type": "code",
   "execution_count": 17,
   "metadata": {},
   "outputs": [
    {
     "name": "stdout",
     "output_type": "stream",
     "text": [
      "MPlayer 1.5-13.0.0 (C) 2000-2022 MPlayer Team\n",
      "\n",
      "Playing temp.wav.\n",
      "libavformat version 59.17.102 (internal)\n",
      "Audio only file format detected.\n",
      "Load subtitles in ./\n",
      "==========================================================================\n",
      "Opening audio decoder: [pcm] Uncompressed PCM audio decoder\n",
      "AUDIO: 48000 Hz, 1 ch, s16le, 768.0 kbit/100.00% (ratio: 96000->96000)\n",
      "Selected audio codec: [pcm] afm: pcm (Uncompressed PCM)\n",
      "==========================================================================\n",
      "AO: [coreaudio] 48000Hz 1ch s16le (2 bytes per sample)\n",
      "Video: no video\n",
      "Starting playback...\n",
      "A:   0.1 (00.0) of 8.0 (08.0)  0.0% \u001b[J\r"
     ]
    },
    {
     "name": "stderr",
     "output_type": "stream",
     "text": [
      "Can't init Apple Remote.\n"
     ]
    },
    {
     "name": "stdout",
     "output_type": "stream",
     "text": [
      "A:   7.0 (07.0) of 8.0 (08.0)  0.0% \u001b[J\n",
      "\n",
      "\n",
      "Exiting... (End of file)\n"
     ]
    }
   ],
   "source": [
    "play_wave(filename=\"temp.wav\", player=\"mplayer\")"
   ]
  },
  {
   "cell_type": "markdown",
   "metadata": {},
   "source": [
    "### Create interactive spectograph"
   ]
  },
  {
   "cell_type": "code",
   "execution_count": 12,
   "metadata": {},
   "outputs": [
    {
     "data": {
      "application/vnd.jupyter.widget-view+json": {
       "model_id": "0ef14b708edf47b097704a9b30937e9d",
       "version_major": 2,
       "version_minor": 0
      },
      "text/plain": [
       "interactive(children=(IntSlider(value=128, description='seg_length', max=4096, min=128, step=128), Output()), …"
      ]
     },
     "metadata": {},
     "output_type": "display_data"
    },
    {
     "data": {
      "text/plain": [
       "<function __main__.plot_spectrogram(wave, seg_length)>"
      ]
     },
     "execution_count": 12,
     "metadata": {},
     "output_type": "execute_result"
    }
   ],
   "source": [
    "slider = widgets.IntSlider(min=128, max=4096, value=100, step=128)\n",
    "interact(plot_spectrogram, wave=fixed(segment), seg_length=slider)"
   ]
  }
 ],
 "metadata": {
  "interpreter": {
   "hash": "31f2aee4e71d21fbe5cf8b01ff0e069b9275f58929596ceb00d14d90e3e16cd6"
  },
  "kernelspec": {
   "display_name": "Python 3.8.9 64-bit",
   "language": "python",
   "name": "python3"
  },
  "language_info": {
   "codemirror_mode": {
    "name": "ipython",
    "version": 3
   },
   "file_extension": ".py",
   "mimetype": "text/x-python",
   "name": "python",
   "nbconvert_exporter": "python",
   "pygments_lexer": "ipython3",
   "version": "3.8.9"
  },
  "orig_nbformat": 4
 },
 "nbformat": 4,
 "nbformat_minor": 2
}
